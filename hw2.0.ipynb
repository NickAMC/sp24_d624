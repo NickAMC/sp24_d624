{
 "cells": [
  {
   "cell_type": "markdown",
   "metadata": {},
   "source": [
    "# Chapter 3 Exercises (Hyndman and Athanasopoulos)"
   ]
  },
  {
   "cell_type": "code",
   "execution_count": null,
   "metadata": {},
   "outputs": [],
   "source": [
    "import pandas as pd # data wrangling\n",
    "import numpy as np # linear algebra\n",
    "\n",
    "# data visualization\n",
    "import matplotlib.pyplot as plt \n",
    "import seaborn as sns\n",
    "\n",
    "from scipy.stats import boxcox"
   ]
  },
  {
   "cell_type": "markdown",
   "metadata": {},
   "source": [
    "## Exercise 1\n",
    "\n",
    "Consider the GDP information in global_economy.\n",
    "\n",
    "Plot the GDP per capita for each country over time. Which country has the highest GDP per capita?"
   ]
  },
  {
   "cell_type": "code",
   "execution_count": null,
   "metadata": {},
   "outputs": [],
   "source": [
    "# read in the data from R generated csv file\n",
    "df_global_economy = pd.read_csv(\"data/global_economy.csv\", \n",
    "                                parse_dates=[\"Year\"], \n",
    "                                index_col=[\"Year\"])\n",
    "\n",
    "df_global_economy[\"GDP_Per_Capita\"] = (df_global_economy[\"GDP\"] / \n",
    "df_global_economy[\"Population\"]).round(2)\n",
    "\n",
    "# calculate gdp per capita\n",
    "df_gdp_per_capita = df_global_economy[[\"Country\", \"GDP_Per_Capita\",\"GDP\", \"Population\"]]\n",
    "\n",
    "#group by country\n",
    "df_grouped = df_gdp_per_capita.groupby(\"Country\")\n"
   ]
  },
  {
   "cell_type": "markdown",
   "metadata": {},
   "source": [
    "\n",
    "##### Which country has the highest GDP per capita?"
   ]
  },
  {
   "cell_type": "code",
   "execution_count": null,
   "metadata": {},
   "outputs": [],
   "source": [
    "# sort vales of GDP per Capita by Country\n",
    "df_gdp_per_capita.groupby(\"Country\")[[\"GDP_Per_Capita\", \"GDP\", \"Population\"]]\\\n",
    "  .max()\\\n",
    "    .reset_index()\\\n",
    "      .sort_values(\"GDP_Per_Capita\", ascending=False)\\\n",
    "        .head(10)"
   ]
  },
  {
   "cell_type": "markdown",
   "metadata": {},
   "source": [
    "The country with the highest GDP per Capita is Monaca. It is a city-state that borders the Mediterranean Sea. Moreover, looking at the table we can infer that rich countries with very small population have higher GDP per Capita which makes sense.\n",
    "\n",
    "##### How has this changed over time?"
   ]
  },
  {
   "cell_type": "code",
   "execution_count": null,
   "metadata": {},
   "outputs": [],
   "source": [
    "# plot the time series\n",
    "plt.figure(figsize=(9,6))\n",
    "\n",
    "sns.set_style(\"whitegrid\")\n",
    "\n",
    "# create lines for each country\n",
    "for country, value in df_grouped:\n",
    "    sns.lineplot(x=value.index, \n",
    "                 y = \"GDP_Per_Capita\", \n",
    "                 data=value, label = None)\n",
    "\n",
    "# add labels\n",
    "plt.title('GDP per Capita Time Series by Country')\n",
    "plt.xlabel('Year')\n",
    "plt.ylabel('GDP per Capita')\n",
    "plt.grid()\n",
    "plt.show()"
   ]
  },
  {
   "cell_type": "markdown",
   "metadata": {},
   "source": [
    "## Exercise 2\n",
    "\n",
    "For each of the following series, make a graph of the data. If transforming seems appropriate, do so and describe the effect.\n",
    "\n",
    "##### United States GDP from global_economy."
   ]
  },
  {
   "cell_type": "code",
   "execution_count": null,
   "metadata": {},
   "outputs": [],
   "source": [
    "# filter USA from the rest of the data\n",
    "df_us_gdp = df_global_economy[df_global_economy[\"Country\"] == \"United States\"]\n",
    "\n",
    "#plot\n",
    "plt.figure(figsize=(9,6))\n",
    "\n",
    "sns.lineplot(x=df_us_gdp.index, \n",
    "             y = df_us_gdp.GDP)\n",
    "\n",
    "# edit labels\n",
    "plt.xlabel(\"Year\")\n",
    "plt.ylabel(\"Value (in $)\")\n",
    "plt.title(\"US GDP\")\n",
    "\n",
    "plt.show()"
   ]
  },
  {
   "cell_type": "markdown",
   "metadata": {},
   "source": [
    "##### Slaughter of Victorian “Bulls, bullocks and steers” in aus_livestock."
   ]
  },
  {
   "cell_type": "code",
   "execution_count": null,
   "metadata": {},
   "outputs": [],
   "source": [
    "# read in data\n",
    "df_aus_livestock = pd.read_csv(\"aus_livestock.csv\", \n",
    "                               parse_dates=[\"Month\"], \n",
    "                               index_col=['Month'])\n",
    "\n",
    "# filter animal in animals\n",
    "df_filtered_livestock = df_aus_livestock[df_aus_livestock[\"Animal\"] == \\\n",
    "  \"Bulls, bullocks and steers\"]\n",
    "\n",
    "df_filtered_livestock = df_filtered_livestock[[\"Count\"]]"
   ]
  },
  {
   "cell_type": "code",
   "execution_count": null,
   "metadata": {},
   "outputs": [],
   "source": [
    "plt.figure(figsize=(9,6))\n",
    "\n",
    "sns.lineplot(x = df_filtered_livestock.index, \n",
    "             y = df_filtered_livestock[\"Count\"],\n",
    "             errorbar=None)\n",
    "\n",
    "plt.xlabel(\"Month[1M]\")\n",
    "plt.ylabel(\"Count\")\n",
    "plt.title(\"Slaughter of Bulls, bullocks and steers in Australia\")\n",
    "\n",
    "plt.show()"
   ]
  },
  {
   "cell_type": "markdown",
   "metadata": {},
   "source": [
    "Looking the plot, we can see that the variation of the data is all over place. To combat the we must imploy transformations in order to mitigate the variability of the data.\n",
    "\n",
    "Let us try a log tranform on the data and determine whether it is able to reduce the variability on the data.\n"
   ]
  },
  {
   "cell_type": "code",
   "execution_count": null,
   "metadata": {},
   "outputs": [],
   "source": [
    "# apply log transform\n",
    "df_filtered_livestock[\"log_Count\"] = np.log(df_filtered_livestock[\"Count\"] + 0.001)"
   ]
  },
  {
   "cell_type": "code",
   "execution_count": null,
   "metadata": {},
   "outputs": [],
   "source": [
    "plt.figure(figsize=(9,6))\n",
    "\n",
    "sns.lineplot(x = df_filtered_livestock.index, \n",
    "             y = df_filtered_livestock[\"log_Count\"],\n",
    "             errorbar=None)\n",
    "\n",
    "plt.xlabel(\"Month[1M]\")\n",
    "plt.ylabel(\"Log_Count\")\n",
    "plt.title(\"Slaughter of Bulls, bullocks and steers in Australia\")\n",
    "\n",
    "plt.show()"
   ]
  },
  {
   "cell_type": "markdown",
   "metadata": {},
   "source": [
    "Log transform did not quite create homogenous time series. Let's try some other transformation"
   ]
  },
  {
   "cell_type": "code",
   "execution_count": null,
   "metadata": {},
   "outputs": [],
   "source": [
    "df_filtered_livestock[\"boxcox_Count\"], lambda_val = boxcox(df_filtered_livestock[\"Count\"] + 0.001)\n",
    "\n",
    "plt.figure(figsize=(9,6))\n",
    "\n",
    "sns.lineplot(x = df_filtered_livestock.index, \n",
    "             y = df_filtered_livestock[\"boxcox_Count\"], \n",
    "             errorbar=None)\n",
    "\n",
    "plt.xlabel(\"Month[1M]\")\n",
    "plt.ylabel(\"boxcox_Count\")\n",
    "plt.title(\"Slaughter of Bulls, bullocks and steers in Australia\")\n",
    "\n",
    "plt.show()"
   ]
  },
  {
   "cell_type": "markdown",
   "metadata": {},
   "source": [
    "##### Victorian Electricity Demand from vic_elec"
   ]
  },
  {
   "cell_type": "code",
   "execution_count": null,
   "metadata": {},
   "outputs": [],
   "source": [
    "df_vic_elec = pd.read_csv(\"vic_elec.csv\", parse_dates=[\"Time\"], index_col = [\"Time\"])\n",
    "df_demand = df_vic_elec[[\"Demand\"]]\n",
    "\n",
    "plt.plot(df_demand.index, df_demand[\"Demand\"])\n",
    "\n",
    "plt.xlabel(\"Time[30mins]\")\n",
    "plt.ylabel(\"Demand of Electicity\")\n",
    "plt.title(\"Electricity Demand\")\n",
    "\n",
    "plt.show()"
   ]
  },
  {
   "cell_type": "markdown",
   "metadata": {},
   "source": [
    "##### Gas production from aus_production."
   ]
  },
  {
   "cell_type": "code",
   "execution_count": null,
   "metadata": {},
   "outputs": [],
   "source": [
    "df_aus_prod = pd.read_csv(\"aus_production.csv\", parse_dates=[\"Quarter\"], index_col=['Quarter'])\n",
    "df_aus_prod.head()"
   ]
  },
  {
   "cell_type": "code",
   "execution_count": null,
   "metadata": {},
   "outputs": [],
   "source": [
    "df_beer = df_aus_prod[['Beer']]\n",
    "\n",
    "plt.plot(df_beer.index, 'Beer', data = df_beer)\n",
    "\n",
    "plt.xlabel('Quarter[1Q]')\n",
    "plt.ylabel('# Produced')\n",
    "plt.title('Beer Production in Australia Per Quarter')\n",
    "\n",
    "n = 15\n",
    "ticks = plt.xticks()[0]\n",
    "labels = [item.get_text() for item in plt.gca().get_xticklabels()]\n",
    "plt.xticks(ticks[::n], labels[::n], rotation =45)\n",
    "\n",
    "plt.show()"
   ]
  },
  {
   "cell_type": "markdown",
   "metadata": {},
   "source": [
    "## Exercise 3\n",
    "\n",
    "Why is a Box-Cox transformation unhelpful for the `canadian_gas` data?"
   ]
  },
  {
   "cell_type": "code",
   "execution_count": null,
   "metadata": {},
   "outputs": [],
   "source": [
    "df_can_gas = pd.read_csv(\"canadian_gas.csv\", parse_dates=['Month'], index_col=['Month'])\n",
    "\n",
    "df_can_gas[\"boxcox_Volume\"],lmda = boxcox(df_can_gas[\"Volume\"])"
   ]
  },
  {
   "cell_type": "code",
   "execution_count": null,
   "metadata": {},
   "outputs": [],
   "source": [
    "fig, ax = plt.subplots(nrows=1, ncols=2, figsize=(10,6))\n",
    "\n",
    "ax[0].plot(df_can_gas.index, df_can_gas['Volume'])\n",
    "ax[0].set_title('Original')\n",
    "\n",
    "ax[1].plot(df_can_gas.index, df_can_gas['boxcox_Volume'])\n",
    "ax[1].set_title('BoxCox Transformed')\n",
    "\n",
    "plt.tight_layout()\n",
    "plt.show()"
   ]
  },
  {
   "cell_type": "markdown",
   "metadata": {},
   "source": [
    "In this case, the boxcox transformation has little to no impact on the variation of the time series which suggests that the original timeseries already had a relativily constant or stable variation.\n",
    "\n",
    "## Exercise 4\n",
    "\n",
    "What Box-Cox transformation would you select for your retail data (from Exercise 7 in Section 2.10)?"
   ]
  },
  {
   "cell_type": "code",
   "execution_count": null,
   "metadata": {},
   "outputs": [],
   "source": [
    "# read in aus_retail\n",
    "df_aus_retail = pd.read_csv(\"aus_retail.csv\", parse_dates=[\"Month\"], index_col = [\"Month\"])\n",
    "\n",
    "# filter retail\n",
    "df_retail = df_aus_retail[df_aus_retail['Industry'].str.contains('retail')].iloc[:, 1:]"
   ]
  },
  {
   "cell_type": "code",
   "execution_count": null,
   "metadata": {},
   "outputs": [],
   "source": [
    "# boxcox transformation\n",
    "df_retail['boxcox_Turnover'], lmbda_retail = boxcox(df_retail['Turnover'])\n",
    "lmbda_retail"
   ]
  },
  {
   "cell_type": "markdown",
   "metadata": {},
   "source": [
    "Using the boxcox() function from scipy library, it returned the best estimated lambda for the column `Turnover` to be $\\lambda = 0.212$\n",
    "\n",
    "## Exercise 5\n",
    "\n",
    "For the following series, find an appropriate Box-Cox transformation in order to stabilise the variance. Tobacco from `aus_production`, Economy class passengers between Melbourne and Sydney from `ansett`, and Pedestrian counts at Southern Cross Station from `pedestrian`."
   ]
  },
  {
   "cell_type": "code",
   "execution_count": null,
   "metadata": {},
   "outputs": [],
   "source": [
    "# read in the data\n",
    "df_ansett = pd.read_csv(\"ansett.csv\", parse_dates=[\"Week\"], index_col=[\"Week\"])\n",
    "df_pedestrian = pd.read_csv(\"pedestrian.csv\", parse_dates=[\"Date_Time\"], index_col=[\"Date_Time\"])"
   ]
  },
  {
   "cell_type": "code",
   "execution_count": null,
   "metadata": {},
   "outputs": [],
   "source": [
    "# filter required data\n",
    "df_tobacco = df_aus_prod[[\"Tobacco\"]]\n",
    "df_mel_syd = df_ansett[(df_ansett.Class == \"Economy\") & (df_ansett.Airports == \"MEL-SYD\")]\n",
    "df_south_cross = df_pedestrian[df_pedestrian.Sensor == \"Southern Cross Station\"]"
   ]
  },
  {
   "cell_type": "code",
   "execution_count": null,
   "metadata": {},
   "outputs": [],
   "source": [
    "df_tobacco = df_tobacco.loc[df_tobacco.index < '2004 Q3']"
   ]
  },
  {
   "cell_type": "code",
   "execution_count": null,
   "metadata": {},
   "outputs": [],
   "source": [
    "df_tobacco['boxcox_Tobacco'], lmd_tobacco = boxcox(df_tobacco[\"Tobacco\"] + 0.000001)\n",
    "df_mel_syd['boxcox_Passengers'], lmd_passengers = boxcox(df_mel_syd[\"Passengers\"] + 0.000001)\n",
    "df_south_cross['boxcox_Count'], lmd_count = boxcox(df_south_cross[\"Count\"]+ 0.00001)"
   ]
  },
  {
   "cell_type": "code",
   "execution_count": null,
   "metadata": {},
   "outputs": [],
   "source": [
    "fig, ax = plt.subplots(nrows=3, ncols=1, figsize = (10,10))\n",
    "\n",
    "ax[0].plot(df_tobacco.index, df_tobacco['Tobacco'])\n",
    "ax[0].set_title(\"Tobacco\")\n",
    "\n",
    "ax[1].plot(df_mel_syd.index, df_mel_syd['Passengers'])\n",
    "ax[1].set_title(\"Passenger\")\n",
    "\n",
    "ax[2].plot(df_south_cross.index, df_south_cross['Count'])\n",
    "ax[2].set_title(\"Pedestrian Count\")\n",
    "\n",
    "plt.subplots_adjust(wspace=0.5, hspace=0.5)\n",
    "plt.show()"
   ]
  },
  {
   "cell_type": "code",
   "execution_count": null,
   "metadata": {},
   "outputs": [],
   "source": [
    "fig, ax = plt.subplots(nrows=3, ncols=1, figsize = (10,7))\n",
    "\n",
    "ax[0].plot(df_tobacco.index, df_tobacco['boxcox_Tobacco'])\n",
    "ax[0].set_title(\"Tobacco BoxCox\")\n",
    "\n",
    "ax[1].plot(df_mel_syd.index, df_mel_syd['boxcox_Passengers'])\n",
    "ax[1].set_title(\"Passenger BoxCox\")\n",
    "\n",
    "ax[2].plot(df_south_cross.index, df_south_cross['boxcox_Count'])\n",
    "ax[2].set_title(\"Pedestrian Count BoxCox\")\n",
    "\n",
    "plt.subplots_adjust(wspace=0.5, hspace=0.5)\n",
    "plt.show()"
   ]
  },
  {
   "cell_type": "markdown",
   "metadata": {},
   "source": [
    "## Exercise 7\n",
    "\n",
    "Consider the last five years of the Gas data from `aus_production`."
   ]
  },
  {
   "cell_type": "code",
   "execution_count": null,
   "metadata": {},
   "outputs": [],
   "source": [
    "# select Gas column and filter last 5 years\n",
    "df_gas = df_aus_prod[['Gas']]\n",
    "df_gas = df_gas[df_gas.index >= \"2005 Q2\"]"
   ]
  },
  {
   "cell_type": "markdown",
   "metadata": {},
   "source": [
    "##### A) Plot the time series. Can you identify seasonal fluctuations and/or a trend-cycle?"
   ]
  },
  {
   "cell_type": "code",
   "execution_count": null,
   "metadata": {},
   "outputs": [],
   "source": [
    "plt.plot(df_gas.index, df_gas['Gas'])\n",
    "plt.title('Gas Production in the Last 5 Years')\n",
    "plt.xticks(rotation = 45)\n",
    "plt.grid()\n",
    "plt.show()"
   ]
  },
  {
   "cell_type": "markdown",
   "metadata": {},
   "source": [
    "##### B) Use classical_decomposition with type=multiplicative to calculate the trend-cycle and seasonal indices."
   ]
  },
  {
   "cell_type": "code",
   "execution_count": null,
   "metadata": {},
   "outputs": [],
   "source": [
    "from statsmodels.tsa.seasonal import STL, seasonal_decompose\n",
    "\n",
    "decomposition = seasonal_decompose(df_gas['Gas'], period = 4,model='multiplicative')\n",
    "\n",
    "df_gas[\"Trend\"] = decomposition.trend\n",
    "df_gas[\"Seasonal\"] = decomposition.seasonal\n",
    "df_gas[\"Residual\"] = decomposition.resid\n",
    "\n",
    "fig, (ax1, ax2, ax3, ax4) = plt.subplots(4, 1, figsize=(10, 8))\n",
    "\n",
    "ax1.plot(decomposition.observed)\n",
    "ax1.set_title('Observed')\n",
    "\n",
    "ax2.plot(decomposition.trend)\n",
    "ax2.set_title('Trend')\n",
    "\n",
    "ax3.plot(decomposition.seasonal)\n",
    "ax3.set_title('Seasonal')\n",
    "\n",
    "ax4.plot(decomposition.resid)\n",
    "ax4.set_title('Residual')\n",
    "\n",
    "plt.tight_layout()\n",
    "plt.show()"
   ]
  },
  {
   "cell_type": "code",
   "execution_count": null,
   "metadata": {},
   "outputs": [],
   "source": [
    "df_gas.head()"
   ]
  },
  {
   "cell_type": "markdown",
   "metadata": {},
   "source": [
    "##### C) Do the results support the graphical interpretation from part a?\n",
    "\n",
    "I think it does since it captures the upward trend and the season of the time series. Looking closer at the graphs, every four quarters the pattern repeats.\n",
    "\n",
    "##### D) Compute and plot the seasonally adjusted data."
   ]
  },
  {
   "cell_type": "code",
   "execution_count": null,
   "metadata": {},
   "outputs": [],
   "source": [
    "# adjust for seasonal \n",
    "seasonally_adjusted_gas = df_gas['Gas'] - df_gas['Seasonal']\n",
    "\n",
    "# plot adjusted data\n",
    "plt.figure(figsize=(10,8))\n",
    "plt.plot(df_gas.index, df_gas[\"Gas\"], label=\"Original\")\n",
    "plt.plot(df_gas.index, seasonally_adjusted_gas, label=\"Seasonally Adjusted\")\n",
    "\n",
    "plt.legend()\n",
    "plt.title(\"Original and Seasonalyly Removed Data\")\n",
    "plt.xticks(rotation=45)\n",
    "plt.grid()\n",
    "plt.show()"
   ]
  },
  {
   "cell_type": "markdown",
   "metadata": {},
   "source": [
    "##### E) Change one observation to be an outlier (e.g., add 300 to one observation), and recompute the seasonally adjusted data. What is the effect of the outlier?"
   ]
  },
  {
   "cell_type": "code",
   "execution_count": null,
   "metadata": {},
   "outputs": [],
   "source": [
    "df_gas_2 = df_gas.copy()\n",
    "df_gas_2.at[\"2007 Q3\", \"Gas\"] = 500 # create outlier at index 2007 Q3\n",
    "\n",
    "# do the decomp with outlier\n",
    "decomposition = seasonal_decompose(df_gas_2['Gas'], period = 4,model='multiplicative')\n",
    "\n",
    "df_gas_2[\"Trend\"] = decomposition.trend\n",
    "df_gas_2[\"Seasonal\"] = decomposition.seasonal\n",
    "df_gas_2[\"Residual\"] = decomposition.resid\n",
    "\n",
    "seasonally_adjusted_gas = df_gas_2['Gas'] - df_gas_2['Seasonal']\n",
    "\n",
    "# plot adjusted data\n",
    "fig, (ax1, ax2, ax3, ax4) = plt.subplots(4, 1, figsize=(10, 8))\n",
    "\n",
    "ax1.plot(decomposition.observed)\n",
    "ax1.set_title('Observed')\n",
    "\n",
    "ax2.plot(decomposition.trend)\n",
    "ax2.set_title('Trend')\n",
    "\n",
    "ax3.plot(decomposition.seasonal)\n",
    "ax3.set_title('Seasonal')\n",
    "\n",
    "ax4.plot(decomposition.resid)\n",
    "ax4.set_title('Residual')\n",
    "\n",
    "plt.tight_layout()\n",
    "plt.show()"
   ]
  },
  {
   "cell_type": "code",
   "execution_count": null,
   "metadata": {},
   "outputs": [],
   "source": [
    "plt.figure(figsize=(10,8))\n",
    "plt.plot(df_gas.index, df_gas[\"Gas\"], label=\"Original\")\n",
    "plt.plot(df_gas.index, seasonally_adjusted_gas, label=\"Seasonally Adjusted\")\n",
    "\n",
    "plt.legend()\n",
    "plt.title(\"Original and Seasonalyly Removed Data\")\n",
    "plt.xticks(rotation=45)\n",
    "plt.grid()\n",
    "plt.show()"
   ]
  },
  {
   "cell_type": "markdown",
   "metadata": {},
   "source": [
    "Examining the plots above, the augmented outlier has significant effects on the trend and residual components of the timeseries. While, visually had no impact on the seasonality of the data.\n",
    "\n",
    "##### F) Does it make any difference if the outlier is near the end rather than in the middle of the time series?\n",
    "\n",
    "Change the outlier to towards the end of the data. Say change 2009 Q4."
   ]
  },
  {
   "cell_type": "code",
   "execution_count": null,
   "metadata": {},
   "outputs": [],
   "source": [
    "df_gas_3 = df_gas.copy()\n",
    "df_gas_3.at[\"2009 Q4\", \"Gas\"] = 500 # create outlier at index 2007 Q3\n",
    "\n",
    "# do the decomp with outlier\n",
    "decomposition = seasonal_decompose(df_gas_3['Gas'], period = 4,model='multiplicative')\n",
    "\n",
    "df_gas_3[\"Trend\"] = decomposition.trend\n",
    "df_gas_3[\"Seasonal\"] = decomposition.seasonal\n",
    "df_gas_3[\"Residual\"] = decomposition.resid\n",
    "\n",
    "seasonally_adjusted_gas = df_gas_3['Gas'] - df_gas_3['Seasonal']\n",
    "\n",
    "# plot adjusted data\n",
    "fig, (ax1, ax2, ax3, ax4) = plt.subplots(4, 1, figsize=(10, 8))\n",
    "\n",
    "ax1.plot(decomposition.observed)\n",
    "ax1.set_title('Observed')\n",
    "\n",
    "ax2.plot(decomposition.trend)\n",
    "ax2.set_title('Trend')\n",
    "\n",
    "ax3.plot(decomposition.seasonal)\n",
    "ax3.set_title('Seasonal')\n",
    "\n",
    "ax4.plot(decomposition.resid)\n",
    "ax4.set_title('Residual')\n",
    "\n",
    "plt.tight_layout()\n",
    "plt.show()"
   ]
  },
  {
   "cell_type": "markdown",
   "metadata": {},
   "source": [
    "The outlier impacted the trend by creating a sharp increase towards the end of the line and augments the pattern of the seasonal component. Although, having the outlier in the middle of data had no visual impact of seasonality. That is not the case of placing the outlier at the end of the data.\n",
    "\n",
    "## Exercise 8\n",
    "\n",
    "Recall your retail time series data (from Exercise 7 in Section 2.10). Decompose the series using X-11. Does it reveal any outliers, or unusual features that you had not noticed previously?"
   ]
  },
  {
   "cell_type": "code",
   "execution_count": null,
   "metadata": {},
   "outputs": [],
   "source": [
    "data= df_aus_retail[['Turnover']]\n",
    "d1= seasonal_decompose(data, period = 4)\n",
    "\n",
    "fig, (ax1, ax2, ax3, ax4) = plt.subplots(4, 1, figsize=(10, 8))\n",
    "\n",
    "ax1.plot(d1.observed)\n",
    "ax1.set_title('Observed')\n",
    "\n",
    "ax2.plot(d1.trend)\n",
    "ax2.set_title('Trend')\n",
    "\n",
    "ax3.plot(d1.seasonal)\n",
    "ax3.set_title('Seasonal')\n",
    "\n",
    "ax4.plot(d1.resid)\n",
    "ax4.set_title('Residual')\n",
    "\n",
    "plt.tight_layout()\n",
    "plt.show()"
   ]
  },
  {
   "cell_type": "markdown",
   "metadata": {},
   "source": [
    "## Exercise 9\n",
    "\n",
    "Figures 3.19 and 3.20 show the result of decomposing the number of persons in the civilian labour force in Australia each month from February 1978 to August 1995.\n",
    "\n",
    "##### Write about 3–5 sentences describing the results of the decomposition. Pay particular attention to the scales of the graphs in making your interpretation.\n",
    "\n",
    "In the years 1978 to 1995, we observe that the civilian labor force in Australia has overall upward trend. With the seaonality within that year of losing/gaining of 75-100 workers which suggests that the labor force in Australia is relatively stable. Moreover, the 1991 recession does appear in the remainder component of the decomposition which is interesting because it does not affect the overall trend and seasonal. Thus, this decomposition method considered it as noise since it was a blackswan event enclosed this data.\n",
    "\n",
    "##### Is the recession of 1991/1992 visible in the estimated components?\n",
    "\n",
    "The recession does not appear to significantly impact the overall trend and seasonal estimated components in the plot. However, it can observed in the remainder component indicating the unusual deviation from the expected pattern in the data."
   ]
  }
 ],
 "metadata": {
  "kernelspec": {
   "display_name": "ds_env",
   "language": "python",
   "name": "python3"
  },
  "language_info": {
   "name": "python",
   "version": "3.12.1"
  }
 },
 "nbformat": 4,
 "nbformat_minor": 2
}
